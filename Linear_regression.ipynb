{
 "cells": [
  {
   "cell_type": "code",
   "execution_count": 1,
   "metadata": {},
   "outputs": [],
   "source": [
    "import pandas as pd\n",
    "import numpy as np\n",
    "from sklearn import linear_model"
   ]
  },
  {
   "cell_type": "markdown",
   "metadata": {},
   "source": [
    "## The first column is the population of a city and the second column is the profit of a food truck in that city. A negative value for profit indicates a loss."
   ]
  },
  {
   "cell_type": "code",
   "execution_count": 2,
   "metadata": {},
   "outputs": [],
   "source": [
    "data = pd.read_csv('ex1data1.txt', sep=',', names=['Population', 'Profit'])"
   ]
  },
  {
   "cell_type": "code",
   "execution_count": 3,
   "metadata": {
    "scrolled": false
   },
   "outputs": [
    {
     "data": {
      "text/html": [
       "<div>\n",
       "<style scoped>\n",
       "    .dataframe tbody tr th:only-of-type {\n",
       "        vertical-align: middle;\n",
       "    }\n",
       "\n",
       "    .dataframe tbody tr th {\n",
       "        vertical-align: top;\n",
       "    }\n",
       "\n",
       "    .dataframe thead th {\n",
       "        text-align: right;\n",
       "    }\n",
       "</style>\n",
       "<table border=\"1\" class=\"dataframe\">\n",
       "  <thead>\n",
       "    <tr style=\"text-align: right;\">\n",
       "      <th></th>\n",
       "      <th>Population</th>\n",
       "      <th>Profit</th>\n",
       "    </tr>\n",
       "  </thead>\n",
       "  <tbody>\n",
       "    <tr>\n",
       "      <th>0</th>\n",
       "      <td>6.1101</td>\n",
       "      <td>17.5920</td>\n",
       "    </tr>\n",
       "    <tr>\n",
       "      <th>1</th>\n",
       "      <td>5.5277</td>\n",
       "      <td>9.1302</td>\n",
       "    </tr>\n",
       "    <tr>\n",
       "      <th>2</th>\n",
       "      <td>8.5186</td>\n",
       "      <td>13.6620</td>\n",
       "    </tr>\n",
       "    <tr>\n",
       "      <th>3</th>\n",
       "      <td>7.0032</td>\n",
       "      <td>11.8540</td>\n",
       "    </tr>\n",
       "    <tr>\n",
       "      <th>4</th>\n",
       "      <td>5.8598</td>\n",
       "      <td>6.8233</td>\n",
       "    </tr>\n",
       "  </tbody>\n",
       "</table>\n",
       "</div>"
      ],
      "text/plain": [
       "   Population   Profit\n",
       "0      6.1101  17.5920\n",
       "1      5.5277   9.1302\n",
       "2      8.5186  13.6620\n",
       "3      7.0032  11.8540\n",
       "4      5.8598   6.8233"
      ]
     },
     "execution_count": 3,
     "metadata": {},
     "output_type": "execute_result"
    }
   ],
   "source": [
    "data.head()"
   ]
  },
  {
   "cell_type": "code",
   "execution_count": 4,
   "metadata": {},
   "outputs": [],
   "source": [
    "X = np.array([data['Population']]).reshape(97,1)\n",
    "m = X.shape[0]\n",
    "X = np.hstack((np.ones((m,1)),X))"
   ]
  },
  {
   "cell_type": "code",
   "execution_count": 5,
   "metadata": {},
   "outputs": [],
   "source": [
    "y = np.array([data['Profit']]).reshape(m, 1)\n",
    "theta = np.zeros((X.shape[1], 1))"
   ]
  },
  {
   "cell_type": "code",
   "execution_count": 6,
   "metadata": {},
   "outputs": [],
   "source": [
    "def compute_cost(X, y, params):\n",
    "    h = X @ params\n",
    "    sqr = (h-y) ** 2\n",
    "    j = (1/(2*m)) * sqr.sum()\n",
    "    return j"
   ]
  },
  {
   "cell_type": "code",
   "execution_count": 7,
   "metadata": {},
   "outputs": [],
   "source": [
    "# test_theta = np.array([-1, 2]).reshape(2, 1)\n",
    "c = compute_cost(X, y, theta)"
   ]
  },
  {
   "cell_type": "code",
   "execution_count": 8,
   "metadata": {},
   "outputs": [],
   "source": [
    "def gradient_descent(X, y, params, alpha, iteration):\n",
    "    j_history = np.zeros((iteration, 1))\n",
    "    \n",
    "    for i in range(iteration):\n",
    "        h = X @ params\n",
    "        p = (h-y).T\n",
    "        params = params - ((alpha / m) * (p @ X).T )\n",
    "        \n",
    "        j_history[i] = compute_cost(X, y, params)\n",
    "    return (params, j_history)"
   ]
  },
  {
   "cell_type": "code",
   "execution_count": 9,
   "metadata": {},
   "outputs": [],
   "source": [
    "t, j = gradient_descent(X, y, theta, 0.01, 1500)"
   ]
  },
  {
   "cell_type": "code",
   "execution_count": 10,
   "metadata": {},
   "outputs": [
    {
     "name": "stdout",
     "output_type": "stream",
     "text": [
      "Cost when theta=[0, 0], 32.072733877455676\n",
      "\n",
      "Theta after 1500 iteration: \n",
      "[[-3.63029144]\n",
      " [ 1.16636235]]\n",
      "\n",
      "\n",
      "First 50 cost: \n",
      "[[6.73719046]\n",
      " [5.93159357]\n",
      " [5.90115471]\n",
      " [5.89522859]\n",
      " [5.89009494]\n",
      " [5.88500416]\n",
      " [5.87993248]\n",
      " [5.87487909]\n",
      " [5.86984391]\n",
      " [5.86482687]\n",
      " [5.85982789]\n",
      " [5.85484692]\n",
      " [5.84988389]\n",
      " [5.84493874]\n",
      " [5.8400114 ]\n",
      " [5.83510181]\n",
      " [5.8302099 ]\n",
      " [5.82533562]\n",
      " [5.82047889]\n",
      " [5.81563965]\n",
      " [5.81081784]\n",
      " [5.8060134 ]\n",
      " [5.80122627]\n",
      " [5.79645638]\n",
      " [5.79170367]\n",
      " [5.78696808]\n",
      " [5.78224955]\n",
      " [5.77754801]\n",
      " [5.77286341]\n",
      " [5.76819568]\n",
      " [5.76354477]\n",
      " [5.75891061]\n",
      " [5.75429313]\n",
      " [5.7496923 ]\n",
      " [5.74510803]\n",
      " [5.74054027]\n",
      " [5.73598897]\n",
      " [5.73145406]\n",
      " [5.72693549]\n",
      " [5.72243319]\n",
      " [5.71794711]\n",
      " [5.71347718]\n",
      " [5.70902336]\n",
      " [5.70458558]\n",
      " [5.70016379]\n",
      " [5.69575792]\n",
      " [5.69136792]\n",
      " [5.68699373]\n",
      " [5.6826353 ]\n",
      " [5.67829257]]\n",
      "\n",
      "\n",
      "Last 50 cost: \n",
      "[[4.48462934]\n",
      " [4.48460175]\n",
      " [4.48457427]\n",
      " [4.48454689]\n",
      " [4.4845196 ]\n",
      " [4.48449241]\n",
      " [4.48446532]\n",
      " [4.48443833]\n",
      " [4.48441143]\n",
      " [4.48438463]\n",
      " [4.48435793]\n",
      " [4.48433133]\n",
      " [4.48430481]\n",
      " [4.4842784 ]\n",
      " [4.48425208]\n",
      " [4.48422586]\n",
      " [4.48419973]\n",
      " [4.48417369]\n",
      " [4.48414775]\n",
      " [4.4841219 ]\n",
      " [4.48409614]\n",
      " [4.48407048]\n",
      " [4.48404491]\n",
      " [4.48401943]\n",
      " [4.48399404]\n",
      " [4.48396875]\n",
      " [4.48394354]\n",
      " [4.48391843]\n",
      " [4.48389341]\n",
      " [4.48386848]\n",
      " [4.48384363]\n",
      " [4.48381888]\n",
      " [4.48379422]\n",
      " [4.48376964]\n",
      " [4.48374515]\n",
      " [4.48372075]\n",
      " [4.48369644]\n",
      " [4.48367222]\n",
      " [4.48364808]\n",
      " [4.48362403]\n",
      " [4.48360007]\n",
      " [4.4835762 ]\n",
      " [4.48355241]\n",
      " [4.4835287 ]\n",
      " [4.48350508]\n",
      " [4.48348155]\n",
      " [4.4834581 ]\n",
      " [4.48343473]\n",
      " [4.48341145]\n",
      " [4.48338826]]\n",
      "\n",
      "\n"
     ]
    }
   ],
   "source": [
    "print(f'Cost when theta=[0, 0], {c}\\n')\n",
    "print(f'Theta after 1500 iteration: \\n{t}\\n\\n')\n",
    "\n",
    "print(f'First 50 cost: \\n{j[:50, :]}\\n\\n')\n",
    "\n",
    "print(f'Last 50 cost: \\n{j[-50:, :]}\\n\\n')"
   ]
  },
  {
   "cell_type": "code",
   "execution_count": 11,
   "metadata": {},
   "outputs": [],
   "source": [
    "def predict_value(X, theta):\n",
    "    return X @ theta"
   ]
  },
  {
   "cell_type": "markdown",
   "metadata": {},
   "source": [
    "* For population = 35,000, we predict a profit of 4519.767868 \n",
    "* For population = 70,000, we predict a profit of 45342.45012"
   ]
  },
  {
   "cell_type": "code",
   "execution_count": 51,
   "metadata": {},
   "outputs": [],
   "source": [
    "val = 35000 / 10000\n",
    "x = np.array([1, val]).reshape(1, 2)"
   ]
  },
  {
   "cell_type": "code",
   "execution_count": 52,
   "metadata": {},
   "outputs": [
    {
     "name": "stdout",
     "output_type": "stream",
     "text": [
      "4519.7678677017675\n"
     ]
    }
   ],
   "source": [
    "print(predict_value(x, t)[0, 0] * 10000)"
   ]
  },
  {
   "cell_type": "code",
   "execution_count": 53,
   "metadata": {},
   "outputs": [
    {
     "data": {
      "text/plain": [
       "LinearRegression(copy_X=True, fit_intercept=True, n_jobs=None, normalize=False)"
      ]
     },
     "execution_count": 53,
     "metadata": {},
     "output_type": "execute_result"
    }
   ],
   "source": [
    "reg = linear_model.LinearRegression()\n",
    "reg.fit(X, y)"
   ]
  },
  {
   "cell_type": "code",
   "execution_count": 54,
   "metadata": {},
   "outputs": [
    {
     "data": {
      "text/plain": [
       "array([[-3.89578088],\n",
       "       [ 1.19303364]])"
      ]
     },
     "execution_count": 54,
     "metadata": {},
     "output_type": "execute_result"
    }
   ],
   "source": [
    "# theta from sklearn\n",
    "t1 = reg.coef_[0,1]\n",
    "t2 = reg.intercept_[0]\n",
    "sk_theta = np.array([t2, t1]).reshape(2, 1)\n",
    "sk_theta"
   ]
  },
  {
   "cell_type": "code",
   "execution_count": 55,
   "metadata": {
    "scrolled": true
   },
   "outputs": [
    {
     "data": {
      "text/plain": [
       "2798.368763517232"
      ]
     },
     "execution_count": 55,
     "metadata": {},
     "output_type": "execute_result"
    }
   ],
   "source": [
    "predict_value(x, sk_theta)[0,0] * 10000"
   ]
  },
  {
   "cell_type": "code",
   "execution_count": 56,
   "metadata": {},
   "outputs": [],
   "source": [
    "sklearn_accuracy = reg.score(X, y) * 100"
   ]
  },
  {
   "cell_type": "code",
   "execution_count": 57,
   "metadata": {},
   "outputs": [],
   "source": [
    "def our_score(X, y, params):\n",
    "    h = X @ params\n",
    "    p = ((y - h) ** 2).sum()\n",
    "    e = ((y - y.mean()) ** 2).sum()\n",
    "    score = 1 - (p / e)\n",
    "    return score"
   ]
  },
  {
   "cell_type": "code",
   "execution_count": 58,
   "metadata": {},
   "outputs": [],
   "source": [
    "our_accuracy = our_score(X, y, t) * 100"
   ]
  },
  {
   "cell_type": "code",
   "execution_count": 65,
   "metadata": {},
   "outputs": [
    {
     "name": "stdout",
     "output_type": "stream",
     "text": [
      "SkLearn training accuracy = 0.7020%\n",
      "\n",
      "Our training accuracy = 0.7016%\n",
      "\n"
     ]
    }
   ],
   "source": [
    "print('SkLearn training accuracy = {:.4f}%\\n\\nOur training accuracy = {:.4f}%\\n'.format(sklearn_accuracy, our_accuracy))"
   ]
  }
 ],
 "metadata": {
  "kernelspec": {
   "display_name": "Python 3",
   "language": "python",
   "name": "python3"
  },
  "language_info": {
   "codemirror_mode": {
    "name": "ipython",
    "version": 3
   },
   "file_extension": ".py",
   "mimetype": "text/x-python",
   "name": "python",
   "nbconvert_exporter": "python",
   "pygments_lexer": "ipython3",
   "version": "3.8.2"
  }
 },
 "nbformat": 4,
 "nbformat_minor": 4
}
