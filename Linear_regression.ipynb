{
 "cells": [
  {
   "cell_type": "code",
   "execution_count": 1,
   "metadata": {},
   "outputs": [],
   "source": [
    "import pandas as pd\n",
    "import numpy as np\n",
    "import matplotlib.pyplot as plt\n",
    "from sklearn import linear_model"
   ]
  },
  {
   "cell_type": "markdown",
   "metadata": {},
   "source": [
    "## The first column is the population of a city and the second column is the profit of a food truck in that city. A negative value for profit indicates a loss."
   ]
  },
  {
   "cell_type": "code",
   "execution_count": 2,
   "metadata": {},
   "outputs": [],
   "source": [
    "data = pd.read_csv('ex1data1.txt', sep=',', names=['Population', 'Profit'])"
   ]
  },
  {
   "cell_type": "code",
   "execution_count": 3,
   "metadata": {
    "scrolled": false
   },
   "outputs": [
    {
     "data": {
      "text/html": [
       "<div>\n",
       "<style scoped>\n",
       "    .dataframe tbody tr th:only-of-type {\n",
       "        vertical-align: middle;\n",
       "    }\n",
       "\n",
       "    .dataframe tbody tr th {\n",
       "        vertical-align: top;\n",
       "    }\n",
       "\n",
       "    .dataframe thead th {\n",
       "        text-align: right;\n",
       "    }\n",
       "</style>\n",
       "<table border=\"1\" class=\"dataframe\">\n",
       "  <thead>\n",
       "    <tr style=\"text-align: right;\">\n",
       "      <th></th>\n",
       "      <th>Population</th>\n",
       "      <th>Profit</th>\n",
       "    </tr>\n",
       "  </thead>\n",
       "  <tbody>\n",
       "    <tr>\n",
       "      <th>0</th>\n",
       "      <td>6.1101</td>\n",
       "      <td>17.5920</td>\n",
       "    </tr>\n",
       "    <tr>\n",
       "      <th>1</th>\n",
       "      <td>5.5277</td>\n",
       "      <td>9.1302</td>\n",
       "    </tr>\n",
       "    <tr>\n",
       "      <th>2</th>\n",
       "      <td>8.5186</td>\n",
       "      <td>13.6620</td>\n",
       "    </tr>\n",
       "    <tr>\n",
       "      <th>3</th>\n",
       "      <td>7.0032</td>\n",
       "      <td>11.8540</td>\n",
       "    </tr>\n",
       "    <tr>\n",
       "      <th>4</th>\n",
       "      <td>5.8598</td>\n",
       "      <td>6.8233</td>\n",
       "    </tr>\n",
       "  </tbody>\n",
       "</table>\n",
       "</div>"
      ],
      "text/plain": [
       "   Population   Profit\n",
       "0      6.1101  17.5920\n",
       "1      5.5277   9.1302\n",
       "2      8.5186  13.6620\n",
       "3      7.0032  11.8540\n",
       "4      5.8598   6.8233"
      ]
     },
     "execution_count": 3,
     "metadata": {},
     "output_type": "execute_result"
    }
   ],
   "source": [
    "data.head()"
   ]
  },
  {
   "cell_type": "code",
   "execution_count": 4,
   "metadata": {},
   "outputs": [],
   "source": [
    "feature = np.array([data['Population']]).reshape(97,1)\n",
    "m = feature.shape[0]\n",
    "X = np.hstack((np.ones((m,1)),feature))"
   ]
  },
  {
   "cell_type": "code",
   "execution_count": 5,
   "metadata": {},
   "outputs": [],
   "source": [
    "y = np.array([data['Profit']]).reshape(m, 1)\n",
    "theta = np.zeros((X.shape[1], 1))"
   ]
  },
  {
   "cell_type": "code",
   "execution_count": 6,
   "metadata": {},
   "outputs": [
    {
     "data": {
      "image/png": "[encoded data removed]",
      "text/plain": [
       "<Figure size 432x288 with 1 Axes>"
      ]
     },
     "metadata": {
      "needs_background": "light"
     },
     "output_type": "display_data"
    }
   ],
   "source": [
    "plt.title('Profit Predictor data visualization')\n",
    "plt.plot(feature, y, 'ro', color='black')\n",
    "plt.axis([4, 24, -5, 25])\n",
    "plt.xlabel('Population of the city in 10,000s')\n",
    "plt.ylabel('Profit in $10,000s')\n",
    "plt.show()"
   ]
  },
  {
   "cell_type": "code",
   "execution_count": 7,
   "metadata": {},
   "outputs": [],
   "source": [
    "def compute_cost(X, y, params):\n",
    "    h = X @ params\n",
    "    sqr = (h-y) ** 2\n",
    "    j = (1/(2*m)) * sqr.sum()\n",
    "    return j"
   ]
  },
  {
   "cell_type": "code",
   "execution_count": 8,
   "metadata": {},
   "outputs": [
    {
     "name": "stdout",
     "output_type": "stream",
     "text": [
      "32.072733877455676\n"
     ]
    }
   ],
   "source": [
    "# test_theta = np.array([-1, 2]).reshape(2, 1)\n",
    "c = compute_cost(X, y, theta)\n",
    "print(c)"
   ]
  },
  {
   "cell_type": "code",
   "execution_count": 9,
   "metadata": {},
   "outputs": [],
   "source": [
    "def gradient_descent(X, y, params, alpha, iteration):\n",
    "    j_history = np.zeros((iteration, 1))\n",
    "    \n",
    "    for i in range(iteration):\n",
    "        h = X @ params\n",
    "        p = (h-y).T\n",
    "        params = params - ((alpha / m) * (p @ X).T )\n",
    "        \n",
    "        j_history[i] = compute_cost(X, y, params)\n",
    "    return (params, j_history)"
   ]
  },
  {
   "cell_type": "code",
   "execution_count": 10,
   "metadata": {},
   "outputs": [],
   "source": [
    "t, j = gradient_descent(X, y, theta, 0.01, 1500)"
   ]
  },
  {
   "cell_type": "code",
   "execution_count": 11,
   "metadata": {},
   "outputs": [
    {
     "name": "stdout",
     "output_type": "stream",
     "text": [
      "Cost when theta=[0, 0], 32.072733877455676\n",
      "\n",
      "Theta after 1500 iteration: \n",
      "[[-3.63029144]\n",
      " [ 1.16636235]]\n",
      "\n",
      "\n",
      "First 5 cost: \n",
      "[[6.73719046]\n",
      " [5.93159357]\n",
      " [5.90115471]\n",
      " [5.89522859]\n",
      " [5.89009494]]\n",
      "\n",
      "\n",
      "Last 5 cost: \n",
      "[[4.48348155]\n",
      " [4.4834581 ]\n",
      " [4.48343473]\n",
      " [4.48341145]\n",
      " [4.48338826]]\n",
      "\n",
      "\n",
      "Final cost 4.483388256587725\n",
      "\n"
     ]
    }
   ],
   "source": [
    "print(f'Cost when theta=[0, 0], {c}\\n')\n",
    "print(f'Theta after 1500 iteration: \\n{t}\\n\\n')\n",
    "\n",
    "print(f'First 5 cost: \\n{j[:5, :]}\\n\\n')\n",
    "\n",
    "print(f'Last 5 cost: \\n{j[-5:, :]}\\n\\n')\n",
    "\n",
    "print(f'Final cost {j[-1, 0]}\\n')"
   ]
  },
  {
   "cell_type": "code",
   "execution_count": 12,
   "metadata": {},
   "outputs": [
    {
     "data": {
      "image/png": "[encoded data removed]",
      "text/plain": [
       "<Figure size 432x288 with 1 Axes>"
      ]
     },
     "metadata": {
      "needs_background": "light"
     },
     "output_type": "display_data"
    }
   ],
   "source": [
    "plt.plot(range(len(j)), j, 'b')\n",
    "\n",
    "plt.title(\"Convergence Graph of Cost Function\")\n",
    "plt.xlabel(\"Number of Iterations\")\n",
    "plt.ylabel(\"Cost\")\n",
    "plt.show()"
   ]
  },
  {
   "cell_type": "code",
   "execution_count": 13,
   "metadata": {},
   "outputs": [],
   "source": [
    "def predict_value(X, theta):\n",
    "    return X @ theta"
   ]
  },
  {
   "cell_type": "code",
   "execution_count": 14,
   "metadata": {},
   "outputs": [],
   "source": [
    "y_new = predict_value(X, t)"
   ]
  },
  {
   "cell_type": "code",
   "execution_count": 15,
   "metadata": {},
   "outputs": [
    {
     "data": {
      "image/png": "[encoded data removed]",
      "text/plain": [
       "<Figure size 432x288 with 1 Axes>"
      ]
     },
     "metadata": {
      "needs_background": "light"
     },
     "output_type": "display_data"
    }
   ],
   "source": [
    "plt.title('Profit Predictor best line fit visualization')\n",
    "plt.plot(feature, y, 'ro', color='black', alpha=0.5, label='Training data')\n",
    "plt.plot(feature, y_new, '-', color='blue', label='Best line fit')\n",
    "plt.axis([4, 24, -5, 25])\n",
    "plt.legend(loc='lower right')\n",
    "plt.xlabel('Population of the city in 10,000s')\n",
    "plt.ylabel('Profit in $10,000s')\n",
    "plt.show()"
   ]
  },
  {
   "cell_type": "markdown",
   "metadata": {},
   "source": [
    "* For population = 35,000, we predict a profit of 4519.767868 \n",
    "* For population = 70,000, we predict a profit of 45342.45012\n",
    "* We assume that this is our correct output."
   ]
  },
  {
   "cell_type": "code",
   "execution_count": 16,
   "metadata": {},
   "outputs": [],
   "source": [
    "val = 35000 / 10000\n",
    "x = np.array([1, val]).reshape(1, 2)\n"
   ]
  },
  {
   "cell_type": "code",
   "execution_count": 17,
   "metadata": {},
   "outputs": [
    {
     "name": "stdout",
     "output_type": "stream",
     "text": [
      "For the city with 35,000 population, we predict our profit is = 4519.77$\n"
     ]
    }
   ],
   "source": [
    "print('For the city with 35,000 population, we predict our profit is = {:.2f}$'.format(predict_value(x, t)[0, 0] * 10000))"
   ]
  },
  {
   "cell_type": "code",
   "execution_count": 18,
   "metadata": {},
   "outputs": [
    {
     "data": {
      "text/plain": [
       "LinearRegression(copy_X=True, fit_intercept=True, n_jobs=None, normalize=False)"
      ]
     },
     "execution_count": 18,
     "metadata": {},
     "output_type": "execute_result"
    }
   ],
   "source": [
    "reg = linear_model.LinearRegression()\n",
    "reg.fit(X, y)"
   ]
  },
  {
   "cell_type": "code",
   "execution_count": 19,
   "metadata": {
    "scrolled": true
   },
   "outputs": [
    {
     "data": {
      "text/plain": [
       "array([[-3.89578088],\n",
       "       [ 1.19303364]])"
      ]
     },
     "execution_count": 19,
     "metadata": {},
     "output_type": "execute_result"
    }
   ],
   "source": [
    "# theta from sklearn\n",
    "t1 = reg.coef_[0,1]\n",
    "t2 = reg.intercept_[0]\n",
    "sk_theta = np.array([t2, t1]).reshape(2, 1)\n",
    "sk_theta"
   ]
  },
  {
   "cell_type": "code",
   "execution_count": 20,
   "metadata": {
    "scrolled": true
   },
   "outputs": [
    {
     "name": "stdout",
     "output_type": "stream",
     "text": [
      "For the city with 35,000 population, SKlearn predict our profit is = 2798.37$\n"
     ]
    }
   ],
   "source": [
    "print('For the city with 35,000 population, SKlearn predict our profit is = {:.2f}$'.format(predict_value(x, sk_theta)[0,0] * 10000))"
   ]
  },
  {
   "cell_type": "code",
   "execution_count": 21,
   "metadata": {},
   "outputs": [],
   "source": [
    "sklearn_accuracy = reg.score(X, y) * 100"
   ]
  },
  {
   "cell_type": "code",
   "execution_count": 22,
   "metadata": {},
   "outputs": [],
   "source": [
    "def our_score(X, y, params):\n",
    "    h = X @ params\n",
    "    p = ((y - h) ** 2).sum()\n",
    "    e = ((y - y.mean()) ** 2).sum()\n",
    "    score = 1 - (p / e)\n",
    "    return score"
   ]
  },
  {
   "cell_type": "code",
   "execution_count": 23,
   "metadata": {},
   "outputs": [],
   "source": [
    "our_accuracy = our_score(X, y, t) * 100"
   ]
  },
  {
   "cell_type": "code",
   "execution_count": 24,
   "metadata": {
    "scrolled": true
   },
   "outputs": [
    {
     "name": "stdout",
     "output_type": "stream",
     "text": [
      "SkLearn training accuracy = 70.2032%\n",
      "\n",
      "Our training accuracy = 70.1604%\n",
      "\n"
     ]
    }
   ],
   "source": [
    "print('SkLearn training accuracy = {:.4f}%\\n\\nOur training accuracy = {:.4f}%\\n'.format(sklearn_accuracy, our_accuracy))"
   ]
  }
 ],
 "metadata": {
  "kernelspec": {
   "display_name": "Python 3",
   "language": "python",
   "name": "python3"
  },
  "language_info": {
   "codemirror_mode": {
    "name": "ipython",
    "version": 3
   },
   "file_extension": ".py",
   "mimetype": "text/x-python",
   "name": "python",
   "nbconvert_exporter": "python",
   "pygments_lexer": "ipython3",
   "version": "3.8.2"
  }
 },
 "nbformat": 4,
 "nbformat_minor": 4
}
